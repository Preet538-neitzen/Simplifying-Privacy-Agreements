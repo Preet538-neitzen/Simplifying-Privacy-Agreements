{
  "nbformat": 4,
  "nbformat_minor": 0,
  "metadata": {
    "colab": {
      "name": "ODQA_policy_data_BE_proj.ipynb",
      "provenance": []
    },
    "kernelspec": {
      "name": "python3",
      "display_name": "Python 3"
    },
    "language_info": {
      "name": "python"
    }
  },
  "cells": [
    {
      "cell_type": "code",
      "metadata": {
        "id": "Z5t2FRr12XUR"
      },
      "source": [
        "pip install deeppavlov"
      ],
      "execution_count": null,
      "outputs": []
    },
    {
      "cell_type": "code",
      "metadata": {
        "id": "HMEqfyVY3mUz"
      },
      "source": [
        "!pip install -q deeppavlov\n",
        "!python -m deeppavlov install en_odqa_infer_wiki\n"
      ],
      "execution_count": null,
      "outputs": []
    },
    {
      "cell_type": "code",
      "metadata": {
        "id": "Npc_pdMGLyZU"
      },
      "source": [
        "%load https://github.com/deepmipt/DeepPavlov/blob/0.1.6/deeppavlov/configs/odqa/en_odqa_infer_wiki.json"
      ],
      "execution_count": null,
      "outputs": []
    },
    {
      "cell_type": "code",
      "metadata": {
        "colab": {
          "base_uri": "https://localhost:8080/"
        },
        "id": "ba_m_pYQ4Bpj",
        "outputId": "f84fac1d-2567-4fa6-d35d-76d5214ab69e"
      },
      "source": [
        "from deeppavlov import configs\n",
        "from deeppavlov.core.common.file import read_json\n",
        "from deeppavlov import configs, train_model\n",
        "\n",
        "model_config = read_json(configs.doc_retrieval.en_ranker_tfidf_wiki)\n",
        "model_config[\"dataset_reader\"][\"data_path\"] = \"/content/Policy Data\"\n",
        "model_config[\"dataset_reader\"][\"dataset_format\"] = \"txt\"\n",
        "doc_retrieval = train_model(model_config)"
      ],
      "execution_count": null,
      "outputs": [
        {
          "output_type": "stream",
          "name": "stderr",
          "text": [
            "2021-10-29 14:14:29.261 INFO in 'deeppavlov.dataset_readers.odqa_reader'['odqa_reader'] at line 57: Reading files...\n",
            "2021-10-29 14:14:29.269 INFO in 'deeppavlov.dataset_iterators.sqlite_iterator'['sqlite_iterator'] at line 57: Connecting to database, path: /root/.deeppavlov/downloads/odqa/enwiki.db\n",
            "2021-10-29 14:14:29.273 INFO in 'deeppavlov.dataset_iterators.sqlite_iterator'['sqlite_iterator'] at line 112: SQLite iterator: The size of the database is 25 documents\n",
            "2021-10-29 14:14:30.115 INFO in 'deeppavlov.models.vectorizers.hashing_tfidf_vectorizer'['hashing_tfidf_vectorizer'] at line 153: Tokenizing batch...\n",
            "2021-10-29 14:14:31.794 INFO in 'deeppavlov.models.vectorizers.hashing_tfidf_vectorizer'['hashing_tfidf_vectorizer'] at line 155: Counting hash...\n",
            "2021-10-29 14:14:31.812 INFO in 'deeppavlov.models.vectorizers.hashing_tfidf_vectorizer'['hashing_tfidf_vectorizer'] at line 214: Saving tfidf matrix to /root/.deeppavlov/models/odqa/enwiki_tfidf_matrix.npz\n",
            "2021-10-29 14:14:36.23 INFO in 'deeppavlov.models.vectorizers.hashing_tfidf_vectorizer'['hashing_tfidf_vectorizer'] at line 264: Loading tfidf matrix from /root/.deeppavlov/models/odqa/enwiki_tfidf_matrix.npz\n",
            "2021-10-29 14:14:37.107 INFO in 'deeppavlov.models.vectorizers.hashing_tfidf_vectorizer'['hashing_tfidf_vectorizer'] at line 264: Loading tfidf matrix from /root/.deeppavlov/models/odqa/enwiki_tfidf_matrix.npz\n"
          ]
        }
      ]
    },
    {
      "cell_type": "code",
      "metadata": {
        "colab": {
          "base_uri": "https://localhost:8080/"
        },
        "id": "rWiNcAjb9c3f",
        "outputId": "7a1420c2-1f4a-4b4c-85a4-6a4e58feb83d"
      },
      "source": [
        "doc_retrieval(['Data Protection'])"
      ],
      "execution_count": null,
      "outputs": [
        {
          "output_type": "execute_result",
          "data": {
            "text/plain": [
              "[['pd1.txt',\n",
              "  'pd3.txt',\n",
              "  'pd2.txt',\n",
              "  'pd4.txt',\n",
              "  'pd22.txt',\n",
              "  'pd20.txt',\n",
              "  'pd14.txt',\n",
              "  'pd15.txt',\n",
              "  'pd25.txt',\n",
              "  'pd18.txt',\n",
              "  'pd12.txt',\n",
              "  'pd17.txt']]"
            ]
          },
          "metadata": {},
          "execution_count": 18
        }
      ]
    },
    {
      "cell_type": "code",
      "metadata": {
        "id": "OFFhJ6tH9y8Y"
      },
      "source": [
        "from deeppavlov import configs\n",
        "from deeppavlov.core.commands.infer import build_model\n",
        "\n",
        "squad = build_model(configs.squad.multi_squad_noans_infer, download = True)\n",
        "\n",
        "\n",
        "odqa = build_model(configs.odqa.en_odqa_infer_wiki, download = False)\n"
      ],
      "execution_count": null,
      "outputs": []
    },
    {
      "cell_type": "code",
      "metadata": {
        "id": "bwwQsXOHBQFM",
        "colab": {
          "base_uri": "https://localhost:8080/"
        },
        "outputId": "c48feeff-689f-4ec5-8aa4-cdbc51a5027d"
      },
      "source": [
        "answers = odqa([\"what is Group Annuities?\"])\n",
        "print(answers)"
      ],
      "execution_count": null,
      "outputs": [
        {
          "output_type": "stream",
          "name": "stderr",
          "text": [
            "2021-10-29 14:39:49.955 WARNING in 'deeppavlov.models.doc_retrieval.logit_ranker'['logit_ranker'] at line 74: you didn't pass tfidf_doc_ids as input in logit_ranker config so batch_best_answers_doc_ids can't be compute\n"
          ]
        },
        {
          "output_type": "stream",
          "name": "stdout",
          "text": [
            "[['Unallocated - annuity contracts or portions thereof where the Insurer purchases an annuity for the retirees'], [0.9999634623527527], [1613]]\n"
          ]
        }
      ]
    },
    {
      "cell_type": "code",
      "metadata": {
        "colab": {
          "base_uri": "https://localhost:8080/"
        },
        "id": "EUoJIIOtf_bC",
        "outputId": "c56051bf-3fd4-48fa-ee2d-34268dcc4e2b"
      },
      "source": [
        "answers = odqa([\"what is Anonymisation process\"])\n",
        "print(answers)"
      ],
      "execution_count": null,
      "outputs": [
        {
          "output_type": "stream",
          "name": "stderr",
          "text": [
            "2021-10-29 14:44:16.435 WARNING in 'deeppavlov.models.doc_retrieval.logit_ranker'['logit_ranker'] at line 74: you didn't pass tfidf_doc_ids as input in logit_ranker config so batch_best_answers_doc_ids can't be compute\n"
          ]
        },
        {
          "output_type": "stream",
          "name": "stdout",
          "text": [
            "[['rendering data into a form'], [0.9999657273292542], [31]]\n"
          ]
        }
      ]
    },
    {
      "cell_type": "code",
      "metadata": {
        "colab": {
          "base_uri": "https://localhost:8080/"
        },
        "id": "_zKpCsFehLaf",
        "outputId": "4796bd03-95ae-439f-b372-dac28162e6e1"
      },
      "source": [
        "answers = odqa([\"what is data breach ?\"])\n",
        "print(answers)"
      ],
      "execution_count": null,
      "outputs": [
        {
          "output_type": "stream",
          "name": "stderr",
          "text": [
            "2021-10-29 14:47:18.123 WARNING in 'deeppavlov.models.doc_retrieval.logit_ranker'['logit_ranker'] at line 74: you didn't pass tfidf_doc_ids as input in logit_ranker config so batch_best_answers_doc_ids can't be compute\n"
          ]
        },
        {
          "output_type": "stream",
          "name": "stdout",
          "text": [
            "[['security leading to the accidental or unlawful destruction'], [0.9999762773513794], [419]]\n"
          ]
        }
      ]
    },
    {
      "cell_type": "code",
      "metadata": {
        "id": "HV4wJ5tFhhmX",
        "colab": {
          "base_uri": "https://localhost:8080/"
        },
        "outputId": "30e09b00-2564-4acb-cfc4-4b0091e3f871"
      },
      "source": [
        "answers = odqa([\"what is Pseudonymisation  ?\"])\n",
        "print(answers)"
      ],
      "execution_count": null,
      "outputs": [
        {
          "output_type": "stream",
          "name": "stderr",
          "text": [
            "2021-10-29 14:48:46.988 WARNING in 'deeppavlov.models.doc_retrieval.logit_ranker'['logit_ranker'] at line 74: you didn't pass tfidf_doc_ids as input in logit_ranker config so batch_best_answers_doc_ids can't be compute\n"
          ]
        },
        {
          "output_type": "stream",
          "name": "stdout",
          "text": [
            "[['The processing of personal data'], [0.9999619126319885], [1969]]\n"
          ]
        }
      ]
    }
  ]
}